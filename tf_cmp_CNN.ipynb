{
 "cells": [
  {
   "cell_type": "code",
   "execution_count": 1,
   "metadata": {
    "collapsed": false
   },
   "outputs": [
    {
     "name": "stderr",
     "output_type": "stream",
     "text": [
      "Using TensorFlow backend.\n"
     ]
    }
   ],
   "source": [
    "\"\"\"\n",
    "Based from : https://github.com/sjchoi86/tensorflow-101/blob/master/notebooks/cnn_mnist_simple.ipynb\n",
    "\"\"\"\n",
    "\n",
    "import tensorflow as tf\n",
    "import numpy as np\n",
    "import os\n",
    "import sys\n",
    "import datetime\n",
    "from tensorflow.examples.tutorials.mnist import input_data\n",
    "from keras.models import Sequential\n",
    "from keras.layers import Dense, Reshape, Convolution2D, Activation, MaxPooling2D\n",
    "from keras.optimizers import *"
   ]
  },
  {
   "cell_type": "code",
   "execution_count": 2,
   "metadata": {
    "collapsed": false
   },
   "outputs": [
    {
     "name": "stdout",
     "output_type": "stream",
     "text": [
      "Extracting ../dataset/mnist/train-images-idx3-ubyte.gz\n",
      "Extracting ../dataset/mnist/train-labels-idx1-ubyte.gz\n",
      "Extracting ../dataset/mnist/t10k-images-idx3-ubyte.gz\n",
      "Extracting ../dataset/mnist/t10k-labels-idx1-ubyte.gz\n"
     ]
    }
   ],
   "source": [
    "if not os.path.exists('../dataset/mnist'):\n",
    "    os.mkdir('../dataset/mnist')\n",
    "   \n",
    "mnist = input_data.read_data_sets('../dataset/mnist', one_hot=True)\n",
    "trainimg    = mnist.train.images\n",
    "trainlabel  = mnist.train.labels\n",
    "testimg     = mnist.test.images\n",
    "testlabel   = mnist.test.labels"
   ]
  },
  {
   "cell_type": "code",
   "execution_count": 3,
   "metadata": {
    "collapsed": true
   },
   "outputs": [],
   "source": [
    "learning_rate = 0.001\n",
    "training_epochs = 2\n",
    "batch_size = 100\n",
    "display_step = 1"
   ]
  },
  {
   "cell_type": "code",
   "execution_count": 4,
   "metadata": {
    "collapsed": true
   },
   "outputs": [],
   "source": [
    "def do_train(device):\n",
    "    if device == 'gpu':\n",
    "        device_type = '/gpu:0'\n",
    "    else:\n",
    "        device_type = '/cpu:0'\n",
    "        \n",
    "    with tf.device(device_type): # <= This is optional\n",
    "        n_input  = 784\n",
    "        n_output = 10\n",
    "        weights  = {\n",
    "            'wc1': tf.Variable(tf.random_normal([3, 3, 1, 64], stddev=0.1)),\n",
    "            'wd1': tf.Variable(tf.random_normal([14*14*64, n_output], stddev=0.1))\n",
    "        }\n",
    "        biases   = {\n",
    "            'bc1': tf.Variable(tf.random_normal([64], stddev=0.1)),\n",
    "            'bd1': tf.Variable(tf.random_normal([n_output], stddev=0.1))\n",
    "        }\n",
    "        def conv_simple(_input, _w, _b):\n",
    "            # Reshape input\n",
    "            _input_r = tf.reshape(_input, shape=[-1, 28, 28, 1])\n",
    "            # Convolution\n",
    "            _conv1 = tf.nn.conv2d(_input_r, _w['wc1'], strides=[1, 1, 1, 1], padding='SAME')\n",
    "            # Add-bias\n",
    "            _conv2 = tf.nn.bias_add(_conv1, _b['bc1'])\n",
    "            # Pass ReLu\n",
    "            _conv3 = tf.nn.relu(_conv2)\n",
    "            # Max-pooling\n",
    "            _pool  = tf.nn.max_pool(_conv3, ksize=[1, 2, 2, 1], strides=[1, 2, 2, 1], padding='SAME')\n",
    "            # Vectorize\n",
    "            _dense = tf.reshape(_pool, [-1, _w['wd1'].get_shape().as_list()[0]])\n",
    "            # Fully-connected layer\n",
    "            _out = tf.add(tf.matmul(_dense, _w['wd1']), _b['bd1'])\n",
    "            # Return everything\n",
    "            out = {\n",
    "                'input_r': _input_r, 'conv1': _conv1, 'conv2': _conv2, 'conv3': _conv3\n",
    "                , 'pool': _pool, 'dense': _dense, 'out': _out\n",
    "            }\n",
    "            return out\n",
    "\n",
    "        def conv_keras(_input):\n",
    "            # Reshape input\n",
    "            _input_r = tf.reshape(_input, shape=[-1, 28, 28, 1])\n",
    "            # Convolution2D(nb_filters, kernal_size[0], kernal_size[1])\n",
    "            _conv1 = Convolution2D(64,3,3, border_mode='same', input_shape=(28,28,1))(_input_r)\n",
    "            _relu1 = Activation('relu')(_conv1)\n",
    "            _pool1 = MaxPooling2D(pool_size=(2,2))(_relu1)\n",
    "            # Conv layer 2\n",
    "            _conv2 = Convolution2D(64,3,3, border_mode='same')(_pool1)\n",
    "            _relu2 = Activation('relu')(_conv2)\n",
    "            _pool2 = MaxPooling2D(pool_size=(2,2))(_relu2)\n",
    "            # FC layer 1\n",
    "#             _dense1 = Flatten()(_pool2) #It does not work correctly on TF backends.\n",
    "            _dense1 = tf.reshape(_pool2, [-1, np.prod(_pool2.get_shape()[1:].as_list())])\n",
    "            _dense2 = Dense(128, activation='relu')(_dense1)\n",
    "            preds = Dense(10, activation='softmax')(_dense2)\n",
    "            return preds\n",
    "\n",
    "    print (\"CNN ready with {}\".format(device_type))\n",
    "\n",
    "    x = tf.placeholder(tf.float32, [None, n_input])\n",
    "    y = tf.placeholder(tf.float32, [None, n_output])\n",
    "   \n",
    "    with tf.device(device_type):\n",
    "#         _pred = conv_simple(x, weights, biases)['out']\n",
    "        _pred = conv_keras(x)\n",
    "        cost = tf.reduce_mean(tf.nn.softmax_cross_entropy_with_logits(_pred, y))\n",
    "#         cost = tf.reduce_mean(tf.nn.softmax_cross_entropy_with_logits(preds, y))\n",
    "        optm = tf.train.AdamOptimizer(learning_rate=learning_rate).minimize(cost)\n",
    "        _corr = tf.equal(tf.argmax(_pred,1), tf.argmax(y,1)) # Count corrects\n",
    "        accr = tf.reduce_mean(tf.cast(_corr, tf.float32)) # Accuracy\n",
    "        init = tf.initialize_all_variables()\n",
    "    #Saver\n",
    "#     save_step = 1;\n",
    "#     savedir = \"nets/\"\n",
    "#     saver = tf.train.Saver(max_to_keep=3) \n",
    "#     if not os.path.exists('nets'):\n",
    "#         os.mkdir('nets')\n",
    "    print (\"Network Ready to Go!\")\n",
    "    \n",
    "    do_train = 1\n",
    "    sess = tf.Session(config=tf.ConfigProto(allow_soft_placement=True))\n",
    "    sess.run(init)\n",
    "    \n",
    "    start_time = datetime.datetime.now()\n",
    "    if do_train == 1:\n",
    "        for epoch in range(training_epochs):\n",
    "            avg_cost = 0.\n",
    "            total_batch = int(mnist.train.num_examples/batch_size)\n",
    "            # Loop over all batches\n",
    "            for i in range(total_batch):\n",
    "                batch_xs, batch_ys = mnist.train.next_batch(batch_size)\n",
    "                # Fit training using batch data\n",
    "                sess.run(optm, feed_dict={x: batch_xs, y: batch_ys})\n",
    "                # Compute average loss\n",
    "                avg_cost += sess.run(cost, feed_dict={x: batch_xs, y: batch_ys})/total_batch\n",
    "\n",
    "            # Display logs per epoch step\n",
    "            if epoch % display_step == 0: \n",
    "                print (\"Epoch: %03d/%03d cost: %.9f\" % (epoch, training_epochs, avg_cost))\n",
    "                train_acc = sess.run(accr, feed_dict={x: batch_xs, y: batch_ys})\n",
    "                print (\" Training accuracy: %.3f\" % (train_acc))\n",
    "                test_acc = sess.run(accr, feed_dict={x: testimg, y: testlabel})\n",
    "                print (\" Test accuracy: %.3f\" % (test_acc))\n",
    "\n",
    "            # Save Net\n",
    "#             if epoch % save_step == 0:\n",
    "#                 saver.save(sess, \"nets/cnn_mnist_simple.ckpt-\" + str(epoch))\n",
    "        print (\"Optimization Finished.\")\n",
    "        print (\"Single {} computaion time : {}\".format(device, datetime.datetime.now() - start_time))"
   ]
  },
  {
   "cell_type": "code",
   "execution_count": 5,
   "metadata": {
    "collapsed": false,
    "scrolled": false
   },
   "outputs": [
    {
     "name": "stdout",
     "output_type": "stream",
     "text": [
      "CNN ready with /gpu:0\n",
      "Network Ready to Go!\n",
      "Epoch: 000/002 cost: 1.624298690\n",
      " Training accuracy: 0.870\n",
      " Test accuracy: 0.881\n",
      "Epoch: 001/002 cost: 1.513798745\n",
      " Training accuracy: 0.990\n",
      " Test accuracy: 0.983\n",
      "Optimization Finished.\n",
      "Single gpu computaion time : 0:00:12.279569\n"
     ]
    }
   ],
   "source": [
    "do_train('gpu')"
   ]
  },
  {
   "cell_type": "code",
   "execution_count": 6,
   "metadata": {
    "collapsed": false,
    "scrolled": true
   },
   "outputs": [
    {
     "name": "stdout",
     "output_type": "stream",
     "text": [
      "CNN ready with /cpu:0\n",
      "Network Ready to Go!\n",
      "Epoch: 000/002 cost: 1.546647452\n",
      " Training accuracy: 0.950\n",
      " Test accuracy: 0.971\n",
      "Epoch: 001/002 cost: 1.485102841\n",
      " Training accuracy: 1.000\n",
      " Test accuracy: 0.982\n",
      "Optimization Finished.\n",
      "Single cpu computaion time : 0:03:39.647330\n"
     ]
    }
   ],
   "source": [
    "do_train('cpu')"
   ]
  }
 ],
 "metadata": {
  "kernelspec": {
   "display_name": "Python 2",
   "language": "python",
   "name": "python2"
  },
  "language_info": {
   "codemirror_mode": {
    "name": "ipython",
    "version": 2
   },
   "file_extension": ".py",
   "mimetype": "text/x-python",
   "name": "python",
   "nbconvert_exporter": "python",
   "pygments_lexer": "ipython2",
   "version": "2.7.6"
  }
 },
 "nbformat": 4,
 "nbformat_minor": 2
}
